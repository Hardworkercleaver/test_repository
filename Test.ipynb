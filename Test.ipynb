{
 "cells": [
  {
   "cell_type": "markdown",
   "id": "e1b47e8d",
   "metadata": {},
   "source": [
    "# Creation of a DataFrame from a CSV file :"
   ]
  },
  {
   "cell_type": "code",
   "execution_count": 88,
   "id": "c904d1a8",
   "metadata": {},
   "outputs": [],
   "source": [
    "import pandas as pd"
   ]
  },
  {
   "cell_type": "code",
   "execution_count": null,
   "id": "b15c3187",
   "metadata": {},
   "outputs": [],
   "source": [
    "dogs = pd.read_csv('dogs.csv')\n",
    "dogs"
   ]
  },
  {
   "cell_type": "code",
   "execution_count": null,
   "id": "1454c96c",
   "metadata": {},
   "outputs": [],
   "source": [
    "dogs = pd.read_csv('dogs.csv', sep=',')\n",
    "dogs"
   ]
  },
  {
   "cell_type": "code",
   "execution_count": null,
   "id": "1816c318",
   "metadata": {},
   "outputs": [],
   "source": [
    "dogs = pd.read_csv('dogs.csv', index_col=0)\n",
    "dogs"
   ]
  },
  {
   "cell_type": "code",
   "execution_count": null,
   "id": "5b310841",
   "metadata": {},
   "outputs": [],
   "source": [
    "dogs = pd.read_csv('dogs.csv', usecols=[0, 1, 2])\n",
    "dogs"
   ]
  },
  {
   "cell_type": "code",
   "execution_count": null,
   "id": "3d11eaf4",
   "metadata": {},
   "outputs": [],
   "source": [
    "dogs = pd.read_csv('dogs.csv', parse_dates=['date_of_birth'])\n",
    "dogs"
   ]
  },
  {
   "cell_type": "markdown",
   "id": "9e0819b2",
   "metadata": {},
   "source": [
    "# Inspecting a DataFrame :"
   ]
  },
  {
   "cell_type": "code",
   "execution_count": 89,
   "id": "dc657001",
   "metadata": {},
   "outputs": [],
   "source": [
    "dogs.head()"
   ]
  },
  {
   "cell_type": "code",
   "execution_count": null,
   "id": "62985345",
   "metadata": {},
   "outputs": [],
   "source": [
    "dogs.head(n=6)"
   ]
  },
  {
   "cell_type": "code",
   "execution_count": null,
   "id": "2e871dd8",
   "metadata": {},
   "outputs": [],
   "source": [
    "dogs.info()"
   ]
  },
  {
   "cell_type": "code",
   "execution_count": null,
   "id": "b2f7bc81",
   "metadata": {},
   "outputs": [],
   "source": [
    "dogs.shape"
   ]
  },
  {
   "cell_type": "code",
   "execution_count": null,
   "id": "77626c37",
   "metadata": {},
   "outputs": [],
   "source": [
    "dogs.describe()"
   ]
  },
  {
   "cell_type": "code",
   "execution_count": null,
   "id": "8f683302",
   "metadata": {},
   "outputs": [],
   "source": [
    "dogs.values"
   ]
  },
  {
   "cell_type": "code",
   "execution_count": null,
   "id": "56a2560e",
   "metadata": {},
   "outputs": [],
   "source": [
    "dogs.columns"
   ]
  },
  {
   "cell_type": "code",
   "execution_count": null,
   "id": "781a77b9",
   "metadata": {},
   "outputs": [],
   "source": [
    "dogs.index"
   ]
  },
  {
   "cell_type": "code",
   "execution_count": null,
   "id": "c32cb464",
   "metadata": {},
   "outputs": [],
   "source": [
    "dogs['name'].unique()"
   ]
  },
  {
   "cell_type": "markdown",
   "id": "07d5f882",
   "metadata": {},
   "source": [
    "# Aggregating a DataFrame"
   ]
  },
  {
   "cell_type": "code",
   "execution_count": 76,
   "id": "b22be9c6",
   "metadata": {},
   "outputs": [],
   "source": [
    "dogs['height_cm'].mean()"
   ]
  },
  {
   "cell_type": "code",
   "execution_count": null,
   "id": "6d7af7ae",
   "metadata": {},
   "outputs": [],
   "source": [
    "dogs['height_cm'].median()"
   ]
  },
  {
   "cell_type": "code",
   "execution_count": null,
   "id": "03f4a8ba",
   "metadata": {},
   "outputs": [],
   "source": [
    "dogs['date_of_birth'].min()"
   ]
  },
  {
   "cell_type": "code",
   "execution_count": null,
   "id": "ba0c38ae",
   "metadata": {},
   "outputs": [],
   "source": [
    "dogs['date_of_birth'].cummin()"
   ]
  },
  {
   "cell_type": "code",
   "execution_count": null,
   "id": "adfb9b3f",
   "metadata": {},
   "outputs": [],
   "source": [
    "dogs['date_of_birth'].max()"
   ]
  },
  {
   "cell_type": "code",
   "execution_count": null,
   "id": "70b13250",
   "metadata": {},
   "outputs": [],
   "source": [
    "dogs['date_of_birth'].cummax()"
   ]
  },
  {
   "cell_type": "code",
   "execution_count": null,
   "id": "41065921",
   "metadata": {},
   "outputs": [],
   "source": [
    "dogs['height_cm'].sum()"
   ]
  },
  {
   "cell_type": "code",
   "execution_count": null,
   "id": "3a2a16e9",
   "metadata": {},
   "outputs": [],
   "source": [
    "dogs['height_cm'].cumsum()"
   ]
  },
  {
   "cell_type": "code",
   "execution_count": null,
   "id": "7e992cad",
   "metadata": {},
   "outputs": [],
   "source": [
    "dogs['weight_kg'].quantile(0.3)"
   ]
  },
  {
   "cell_type": "code",
   "execution_count": null,
   "id": "933bec46",
   "metadata": {},
   "outputs": [],
   "source": [
    "dogs['height_cm'].std()"
   ]
  },
  {
   "cell_type": "code",
   "execution_count": null,
   "id": "17ce1945",
   "metadata": {},
   "outputs": [],
   "source": [
    "dogs['weight_kg'].corr(dogs['height_cm'])"
   ]
  },
  {
   "cell_type": "code",
   "execution_count": null,
   "id": "eb03729b",
   "metadata": {},
   "outputs": [],
   "source": [
    "dogs['weight_kg'].agg([sum, min, max])"
   ]
  },
  {
   "cell_type": "code",
   "execution_count": null,
   "id": "972f2ea3",
   "metadata": {},
   "outputs": [],
   "source": [
    "dogs.sort_values(by='height_cm', ascending=False)"
   ]
  },
  {
   "cell_type": "code",
   "execution_count": null,
   "id": "a45fac59",
   "metadata": {},
   "outputs": [],
   "source": [
    "dogs.sort_values(by=['weight_kg', 'height_cm'], ascending=[False, True])"
   ]
  },
  {
   "cell_type": "code",
   "execution_count": null,
   "id": "0ba6c3e8",
   "metadata": {},
   "outputs": [],
   "source": [
    "dogs['breed'].value_counts()"
   ]
  },
  {
   "cell_type": "code",
   "execution_count": null,
   "id": "0980333c",
   "metadata": {},
   "outputs": [],
   "source": [
    "dogs['breed'].value_counts(sort=True)"
   ]
  },
  {
   "cell_type": "code",
   "execution_count": null,
   "id": "6b1e8aa8",
   "metadata": {},
   "outputs": [],
   "source": [
    "dogs['breed'].value_counts(normalize=True)"
   ]
  },
  {
   "cell_type": "code",
   "execution_count": null,
   "id": "e82b8bef",
   "metadata": {},
   "outputs": [],
   "source": [
    "dogs.groupby('breed')['height_cm'].mean()"
   ]
  },
  {
   "cell_type": "code",
   "execution_count": null,
   "id": "28483c96",
   "metadata": {},
   "outputs": [],
   "source": [
    "dogs.groupby(['breed', 'name'])['height_cm'].mean()"
   ]
  },
  {
   "cell_type": "code",
   "execution_count": null,
   "id": "22a8823c",
   "metadata": {},
   "outputs": [],
   "source": [
    "dogs[['height_cm', 'weight_kg']].apply(min)"
   ]
  },
  {
   "cell_type": "code",
   "execution_count": null,
   "id": "32983ac8",
   "metadata": {},
   "outputs": [],
   "source": [
    "dogs['col'] = dogs['color'].map({'Brown':'Br', 'Black':'Bl', 'Gray':'Gr'})\n",
    "dogs"
   ]
  },
  {
   "cell_type": "code",
   "execution_count": null,
   "id": "14ab0148",
   "metadata": {},
   "outputs": [],
   "source": [
    "dogs.pivot_table(values='weight_kg', index='color')"
   ]
  },
  {
   "cell_type": "code",
   "execution_count": null,
   "id": "f1caa9ba",
   "metadata": {},
   "outputs": [],
   "source": [
    "dogs.pivot_table(values='weight_kg', index='color', aggfunc=max)"
   ]
  },
  {
   "cell_type": "code",
   "execution_count": null,
   "id": "fca79fb9",
   "metadata": {},
   "outputs": [],
   "source": [
    "dogs.pivot_table(values='weight_kg', index='color', columns='breed')"
   ]
  },
  {
   "cell_type": "code",
   "execution_count": null,
   "id": "4ef6742b",
   "metadata": {},
   "outputs": [],
   "source": [
    "dogs.pivot_table(values='weight_kg', index='color', columns='breed', fill_value=0)"
   ]
  },
  {
   "cell_type": "code",
   "execution_count": 95,
   "id": "766d2672",
   "metadata": {},
   "outputs": [],
   "source": [
    "dogs.pivot_table(values='weight_kg', index='color', columns='breed', fill_value=0, margins=True)"
   ]
  },
  {
   "cell_type": "markdown",
   "id": "31e2d158",
   "metadata": {},
   "source": [
    "# Joining data in Python"
   ]
  },
  {
   "cell_type": "code",
   "execution_count": 103,
   "id": "170a19d4",
   "metadata": {},
   "outputs": [],
   "source": [
    "Judit = pd.read_csv('Judit Polgar Rank History.csv')\n",
    "Magnus = pd.read_csv('Magnus Carlsen Rank History.csv')\n",
    "print(Judit.head())\n",
    "print(Magnus.head())\n",
    "\n",
    "Judit_Magnus = Judit.merge(Magnus, on='Period')\n",
    "Judit_Magnus"
   ]
  },
  {
   "cell_type": "code",
   "execution_count": null,
   "id": "b9019ac0",
   "metadata": {},
   "outputs": [],
   "source": [
    "Judit_Magnus = Judit.merge(Magnus, on='Period', suffixes=('_Judit', '_Magnus'))\n",
    "Judit_Magnus"
   ]
  },
  {
   "cell_type": "code",
   "execution_count": null,
   "id": "8c7209ba",
   "metadata": {},
   "outputs": [],
   "source": [
    "Judit_Magnus = Judit.merge(Magnus, on='Period', how='inner')\n",
    "Judit_Magnus"
   ]
  },
  {
   "cell_type": "code",
   "execution_count": null,
   "id": "67e7243e",
   "metadata": {},
   "outputs": [],
   "source": [
    "Judit_Magnus = Judit.merge(Magnus, on='Period', how='outer')\n",
    "Judit_Magnus"
   ]
  },
  {
   "cell_type": "code",
   "execution_count": null,
   "id": "836b182f",
   "metadata": {},
   "outputs": [],
   "source": [
    "Judit_Magnus = Judit.merge(Magnus, on='Period', how='left')\n",
    "Judit_Magnus"
   ]
  },
  {
   "cell_type": "code",
   "execution_count": null,
   "id": "ee8f26dc",
   "metadata": {},
   "outputs": [],
   "source": [
    "Judit_Magnus = Judit.merge(Magnus, on='Period', how='right')\n",
    "Judit_Magnus"
   ]
  },
  {
   "cell_type": "code",
   "execution_count": 105,
   "id": "636ab91d",
   "metadata": {},
   "outputs": [],
   "source": [
    "Magnus_1 = pd.read_csv('Magnus Carlsen Rank History_1.csv')\n",
    "Magnus_1\n",
    "\n",
    "Judit_Magnus = Judit.merge(Magnus_1, left_on='Period', right_on='Period_1')\n",
    "Judit_Magnus"
   ]
  },
  {
   "cell_type": "code",
   "execution_count": 109,
   "id": "56db78b2",
   "metadata": {},
   "outputs": [],
   "source": [
    "transactions = pd.read_csv('Transactions.csv')\n",
    "transactions.head()\n",
    "\n",
    "buyer_seller = transactions.merge(transactions, left_on='buyer_name', right_on='seller_name')\n",
    "buyer_seller"
   ]
  },
  {
   "cell_type": "code",
   "execution_count": 111,
   "id": "0919ed55",
   "metadata": {},
   "outputs": [],
   "source": [
    "Judit = pd.read_csv('Judit Polgar Rank History.csv', index_col=0)\n",
    "Magnus = pd.read_csv('Magnus Carlsen Rank History.csv', index_col=0)\n",
    "print(Judit.head())\n",
    "print(Magnus.head())\n",
    "\n",
    "Judit_Magnus = Judit.merge(Magnus, on='Period')\n",
    "Judit_Magnus"
   ]
  },
  {
   "cell_type": "code",
   "execution_count": 119,
   "id": "f9a86c13",
   "metadata": {},
   "outputs": [],
   "source": [
    "Judit = pd.read_csv('Judit Polgar Rank History.csv', index_col=0)\n",
    "Magnus_1 = pd.read_csv('Magnus Carlsen Rank History_1.csv', index_col=0)\n",
    "print(Judit.head())\n",
    "print(Magnus_1.head())\n",
    "\n",
    "Judit_Magnus = Judit.merge(Magnus_1, left_on='Period', right_on='Period_1', left_index=False, right_index=True)\n",
    "Judit_Magnus"
   ]
  },
  {
   "cell_type": "code",
   "execution_count": 118,
   "id": "368cf2b2",
   "metadata": {},
   "outputs": [],
   "source": [
    "Judit = pd.read_csv('Judit Polgar Rank History.csv', index_col=0)\n",
    "Magnus_1 = pd.read_csv('Magnus Carlsen Rank History_1.csv', index_col=0)\n",
    "print(Judit.head())\n",
    "print(Magnus_1.head())\n",
    "\n",
    "Judit_Magnus = Judit.merge(Magnus_1, left_on='Period', right_on='Period_1')\n",
    "Judit_Magnus"
   ]
  }
 ],
 "metadata": {
  "kernelspec": {
   "display_name": "Python 3 (ipykernel)",
   "language": "python",
   "name": "python3"
  },
  "language_info": {
   "codemirror_mode": {
    "name": "ipython",
    "version": 3
   },
   "file_extension": ".py",
   "mimetype": "text/x-python",
   "name": "python",
   "nbconvert_exporter": "python",
   "pygments_lexer": "ipython3",
   "version": "3.9.13"
  }
 },
 "nbformat": 4,
 "nbformat_minor": 5
}
